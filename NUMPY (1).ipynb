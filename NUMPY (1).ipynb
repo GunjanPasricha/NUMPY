{
 "cells": [
  {
   "cell_type": "markdown",
   "id": "42df84cb",
   "metadata": {},
   "source": [
    "NUMPY VS PYTHON LIST\n",
    "\n",
    "...1..consume less memory.\n",
    "...2..fast as compared to the python list.\n",
    "...3..convenient to use."
   ]
  },
  {
   "cell_type": "raw",
   "id": "b4a96758",
   "metadata": {},
   "source": [
    "list:[1,2,3,4]\n",
    "array:[1 2 3 4]"
   ]
  },
  {
   "cell_type": "markdown",
   "id": "455253a9",
   "metadata": {},
   "source": [
    "# importance of numpy in python"
   ]
  },
  {
   "cell_type": "raw",
   "id": "f534eb3f",
   "metadata": {},
   "source": [
    "1...wide variety of mathematical operation on array.\n",
    "2...it supplies library of high level mathematics function that operte on these array and materices.\n",
    "3...mathematical,logical,shape,manipulation,sorting,selecting,i/o,fourier transforms,basic linear algebra, statiscal operation,random simulation etc,,,"
   ]
  },
  {
   "cell_type": "markdown",
   "id": "f0a56c34",
   "metadata": {},
   "source": [
    "# difference between numpy array and list in python"
   ]
  },
  {
   "cell_type": "raw",
   "id": "ad88b034",
   "metadata": {},
   "source": [
    "1) data types storage    (list =  in which all datatypes like[1,2,\"hello\")\n",
    "                         (numpy = in which only particular datatype .) \n",
    "2) importing modules     (list =  no module is required to install.)\n",
    "                         (numpy = module is required to install)\n",
    "3) numerical operation   (list =  less efficient)\n",
    "                         (numpy = fast working, and more operations are                                     avaliable like(metrix))\n",
    "4) modification capabilities\n",
    "                         (list =  fast modification)\n",
    "                         (numpy = less modification function)\n",
    "5) consumes less memory. (list =  more memory consume)\n",
    "                         (numpy = less memory consume)\n",
    "6) fast as compared to the python list\n",
    "7) convenient to use     \n",
    "                         (numpy=  fast work that's why)\n",
    "                         \n",
    "             ##  %timeit =  oneline\n",
    "             ##  %%timeit = work on program\n",
    "                         \n",
    "                         \n",
    "                         "
   ]
  },
  {
   "cell_type": "code",
   "execution_count": 1,
   "id": "92bbc49d",
   "metadata": {},
   "outputs": [
    {
     "name": "stdout",
     "output_type": "stream",
     "text": [
      "2.86 µs ± 76.2 ns per loop (mean ± std. dev. of 7 runs, 100,000 loops each)\n"
     ]
    }
   ],
   "source": [
    "%timeit [j**4 for j in range(1,9)]"
   ]
  },
  {
   "cell_type": "code",
   "execution_count": 2,
   "id": "f05ad118",
   "metadata": {},
   "outputs": [
    {
     "name": "stdout",
     "output_type": "stream",
     "text": [
      "1.91 µs ± 262 ns per loop (mean ± std. dev. of 7 runs, 100,000 loops each)\n"
     ]
    }
   ],
   "source": [
    "import numpy as np\n",
    "\n",
    "%timeit np.arange(1,9)**4"
   ]
  },
  {
   "cell_type": "markdown",
   "id": "4c49c9f9",
   "metadata": {},
   "source": [
    "# NUMPY CREATE ARRAY"
   ]
  },
  {
   "cell_type": "markdown",
   "id": "b565bbf8",
   "metadata": {},
   "source": [
    "ARRAY"
   ]
  },
  {
   "cell_type": "code",
   "execution_count": 3,
   "id": "cb7b3bc8",
   "metadata": {},
   "outputs": [
    {
     "name": "stdout",
     "output_type": "stream",
     "text": [
      "[1 2 3 4]\n",
      "<class 'numpy.ndarray'>\n"
     ]
    }
   ],
   "source": [
    "import numpy as np\n",
    "\n",
    "x = [1,2,3,4]\n",
    "\n",
    "y = np.array(x)\n",
    "\n",
    "print(y)\n",
    "print(type(y))"
   ]
  },
  {
   "cell_type": "markdown",
   "id": "ca414bca",
   "metadata": {},
   "source": [
    "INPUT FROM USER"
   ]
  },
  {
   "cell_type": "code",
   "execution_count": 4,
   "id": "0526f56d",
   "metadata": {},
   "outputs": [
    {
     "name": "stdout",
     "output_type": "stream",
     "text": [
      "enter:11\n",
      "enter:12\n",
      "enter:12\n",
      "enter:13\n",
      "[11 12 12 13]\n"
     ]
    }
   ],
   "source": [
    "l = []\n",
    "\n",
    "for i in range(1,5):\n",
    "    int_l = int(input(\"enter:\"))\n",
    "    l.append(int_l)\n",
    "    \n",
    "print(np.array(l))"
   ]
  },
  {
   "cell_type": "markdown",
   "id": "43cd99e2",
   "metadata": {},
   "source": [
    "# TYPES OF ARRAY"
   ]
  },
  {
   "cell_type": "raw",
   "id": "d3ab7822",
   "metadata": {},
   "source": [
    "1)....  1-D Array       [1 2 3 4]\n",
    "2)....  2-D Array       [[1 2 3 4]]\n",
    "3)....  3-D Array       [[[1 2 3 4]]]\n",
    "4)....  high dimensional arrays\n",
    "\n",
    "\n",
    "         (if we want to know the dimension of array)\n",
    "             (ndim)"
   ]
  },
  {
   "cell_type": "code",
   "execution_count": 5,
   "id": "77bb606b",
   "metadata": {},
   "outputs": [
    {
     "name": "stdout",
     "output_type": "stream",
     "text": [
      "[1 2 3 4]\n",
      "<class 'numpy.ndarray'>\n",
      "1\n"
     ]
    }
   ],
   "source": [
    "      \n",
    "\n",
    "import numpy as np\n",
    "\n",
    "x = [1,2,3,4]\n",
    "\n",
    "y = np.array(x)\n",
    "\n",
    "print(y)\n",
    "print(type(y))\n",
    "print(y.ndim)"
   ]
  },
  {
   "cell_type": "markdown",
   "id": "7d08357c",
   "metadata": {},
   "source": [
    " 2-D ARRAY"
   ]
  },
  {
   "cell_type": "raw",
   "id": "97563c7b",
   "metadata": {},
   "source": [
    "ar2 = np.array([[1,2,3,4],[1,2,3]])   ###### (in which error is occur because                                  both array must be same in both)\n",
    "print(ar2)                                 \n",
    "print(ar2.ndim)"
   ]
  },
  {
   "cell_type": "code",
   "execution_count": 6,
   "id": "0785dd11",
   "metadata": {},
   "outputs": [
    {
     "name": "stdout",
     "output_type": "stream",
     "text": [
      "[[1 2 3 4]\n",
      " [1 2 3 4]]\n",
      "2\n"
     ]
    }
   ],
   "source": [
    "ar2 = np.array([[1,2,3,4],[1,2,3,4]])   \n",
    "print(ar2)                                 \n",
    "print(ar2.ndim)"
   ]
  },
  {
   "cell_type": "markdown",
   "id": "2381b482",
   "metadata": {},
   "source": [
    "3-D ARRAY"
   ]
  },
  {
   "cell_type": "code",
   "execution_count": 7,
   "id": "7e94c266",
   "metadata": {},
   "outputs": [
    {
     "name": "stdout",
     "output_type": "stream",
     "text": [
      "[[1 2 3 4]\n",
      " [1 2 3 4]\n",
      " [1 2 3 4]]\n",
      "2\n"
     ]
    }
   ],
   "source": [
    "ar3 = np.array([[1,2,3,4],[1,2,3,4],[1,2,3,4]])\n",
    "print(ar3)\n",
    "print(ar3.ndim)"
   ]
  },
  {
   "cell_type": "markdown",
   "id": "9cd0274a",
   "metadata": {},
   "source": [
    "N-D ARRAY"
   ]
  },
  {
   "cell_type": "code",
   "execution_count": 8,
   "id": "c1eb0ca3",
   "metadata": {},
   "outputs": [
    {
     "name": "stdout",
     "output_type": "stream",
     "text": [
      "[[[[[[[[[[1 2 3 4]]]]]]]]]]\n",
      "10\n"
     ]
    }
   ],
   "source": [
    "arn = np.array([1,2,3,4],ndmin = 10)\n",
    "print(arn)\n",
    "print(arn.ndim)"
   ]
  },
  {
   "cell_type": "raw",
   "id": "a4e0a981",
   "metadata": {},
   "source": [
    "where (ndmin = 12) it means how many dimension you take;;"
   ]
  },
  {
   "cell_type": "markdown",
   "id": "5530856b",
   "metadata": {},
   "source": [
    "# SPECIAL TYPE OF ARRAYS(FILLED WITH SPECIFIC VALUE)"
   ]
  },
  {
   "cell_type": "raw",
   "id": "409fef26",
   "metadata": {},
   "source": [
    "=> Array filled with 0's\n",
    "=> Array filled with 1's\n",
    "=> Create an empty array\n",
    "=> An array with a range of elements\n",
    "=> Array diagonal elements filled with 1's\n",
    "=> Create an array with values that are spaced linearly in a specified interval"
   ]
  },
  {
   "cell_type": "markdown",
   "id": "059d393a",
   "metadata": {},
   "source": [
    "Array filled with 0's"
   ]
  },
  {
   "cell_type": "code",
   "execution_count": 9,
   "id": "1ee2955c",
   "metadata": {},
   "outputs": [
    {
     "name": "stdout",
     "output_type": "stream",
     "text": [
      "[0. 0. 0. 0.]\n"
     ]
    }
   ],
   "source": [
    "ar_zero = np.zeros(4)\n",
    "print(ar_zero)"
   ]
  },
  {
   "cell_type": "code",
   "execution_count": 10,
   "id": "2fccb426",
   "metadata": {},
   "outputs": [
    {
     "name": "stdout",
     "output_type": "stream",
     "text": [
      "[0. 0. 0. 0.]\n",
      "\n",
      "[[0. 0. 0. 0.]\n",
      " [0. 0. 0. 0.]\n",
      " [0. 0. 0. 0.]]\n"
     ]
    }
   ],
   "source": [
    "ar_zero = np.zeros(4)\n",
    "ar_zero1 = np.zeros((3,4))\n",
    "\n",
    "print(ar_zero)\n",
    "print()\n",
    "print(ar_zero1)"
   ]
  },
  {
   "cell_type": "markdown",
   "id": "9ad7dce6",
   "metadata": {},
   "source": [
    "Array filled with 1's (ONES)"
   ]
  },
  {
   "cell_type": "code",
   "execution_count": 11,
   "id": "4371220c",
   "metadata": {},
   "outputs": [
    {
     "name": "stdout",
     "output_type": "stream",
     "text": [
      "[1. 1. 1. 1.]\n"
     ]
    }
   ],
   "source": [
    "ar_one = np.ones(4)\n",
    "print(ar_one)"
   ]
  },
  {
   "cell_type": "markdown",
   "id": "7a0cc474",
   "metadata": {},
   "source": [
    "Create an (EMPTY) array"
   ]
  },
  {
   "cell_type": "code",
   "execution_count": 12,
   "id": "8bfd8ea0",
   "metadata": {},
   "outputs": [
    {
     "name": "stdout",
     "output_type": "stream",
     "text": [
      "[1. 1. 1. 1.]\n"
     ]
    }
   ],
   "source": [
    "ar_em = np.empty(4)\n",
    "print(ar_em)"
   ]
  },
  {
   "cell_type": "markdown",
   "id": "2a9a3d83",
   "metadata": {},
   "source": [
    "An array with a (RANGE) of elements"
   ]
  },
  {
   "cell_type": "code",
   "execution_count": 13,
   "id": "8833b2f1",
   "metadata": {},
   "outputs": [
    {
     "name": "stdout",
     "output_type": "stream",
     "text": [
      "[0 1 2 3]\n"
     ]
    }
   ],
   "source": [
    "ar_rn = np.arange(4)\n",
    "print(ar_rn)"
   ]
  },
  {
   "cell_type": "markdown",
   "id": "e87ead4f",
   "metadata": {},
   "source": [
    " Array (DIAGONAL) elements filled with 1's"
   ]
  },
  {
   "cell_type": "code",
   "execution_count": 14,
   "id": "652a7e34",
   "metadata": {},
   "outputs": [
    {
     "name": "stdout",
     "output_type": "stream",
     "text": [
      "[[1. 0. 0.]\n",
      " [0. 1. 0.]\n",
      " [0. 0. 1.]]\n"
     ]
    }
   ],
   "source": [
    "ar_dia = np.eye(3)\n",
    "print(ar_dia)"
   ]
  },
  {
   "cell_type": "code",
   "execution_count": 15,
   "id": "78e7e77f",
   "metadata": {},
   "outputs": [
    {
     "name": "stdout",
     "output_type": "stream",
     "text": [
      "[[1. 0. 0. 0. 0.]\n",
      " [0. 1. 0. 0. 0.]\n",
      " [0. 0. 1. 0. 0.]]\n"
     ]
    }
   ],
   "source": [
    "ar_dia = np.eye(3,5)\n",
    "print(ar_dia)"
   ]
  },
  {
   "cell_type": "markdown",
   "id": "cc7bbc53",
   "metadata": {},
   "source": [
    "(LINSPACE)"
   ]
  },
  {
   "cell_type": "code",
   "execution_count": 16,
   "id": "b3de8e1c",
   "metadata": {},
   "outputs": [
    {
     "name": "stdout",
     "output_type": "stream",
     "text": [
      "[ 0.   2.5  5.   7.5 10. ]\n"
     ]
    }
   ],
   "source": [
    "ar_lin = np.linspace(0,10,num=5)\n",
    "print(ar_lin)"
   ]
  },
  {
   "cell_type": "markdown",
   "id": "14e737b0",
   "metadata": {},
   "source": [
    "# CREATING RANDOM VALUED ARRAYS"
   ]
  },
  {
   "cell_type": "raw",
   "id": "46d6a42d",
   "metadata": {},
   "source": [
    "rand() : the function is used to generate a random values between 0 to 1.\n",
    "    \n",
    "randn() : generate random value close to zero. This may return positive or negative as well.\n",
    "\n",
    "ranf()  : the func for doing random sampling in numpy . it returns an array of specified shape and fills it with random floats in the half-open intervals[0.0,1.0]\n",
    "\n",
    "randint(): generate random number between a given range.(max,min)"
   ]
  },
  {
   "cell_type": "markdown",
   "id": "8384b376",
   "metadata": {},
   "source": [
    "# RANDOM"
   ]
  },
  {
   "cell_type": "markdown",
   "id": "c03e0cd4",
   "metadata": {},
   "source": [
    "#########  Rand()  ##########"
   ]
  },
  {
   "cell_type": "code",
   "execution_count": 17,
   "id": "49598fa9",
   "metadata": {},
   "outputs": [
    {
     "name": "stdout",
     "output_type": "stream",
     "text": [
      "[0.70955678 0.53044807 0.79382402 0.78032512]\n"
     ]
    }
   ],
   "source": [
    "var = np.random.rand(4)\n",
    "print(var)"
   ]
  },
  {
   "cell_type": "code",
   "execution_count": 18,
   "id": "f278c64b",
   "metadata": {},
   "outputs": [
    {
     "name": "stdout",
     "output_type": "stream",
     "text": [
      "[[0.06236469 0.27534063 0.42679667 0.33036369 0.83776424]\n",
      " [0.64957371 0.13715437 0.17134827 0.97377958 0.23370793]]\n"
     ]
    }
   ],
   "source": [
    "var1 = np.random.rand(2,5)\n",
    "print(var1)"
   ]
  },
  {
   "cell_type": "markdown",
   "id": "528de188",
   "metadata": {},
   "source": [
    "####### randn()  ##########"
   ]
  },
  {
   "cell_type": "code",
   "execution_count": 19,
   "id": "258582e4",
   "metadata": {},
   "outputs": [
    {
     "name": "stdout",
     "output_type": "stream",
     "text": [
      "[-0.73982194 -1.37514268 -0.80935793 -0.04740614 -1.60401838]\n"
     ]
    }
   ],
   "source": [
    "var2 = np.random.randn(5)\n",
    "print(var2)"
   ]
  },
  {
   "cell_type": "markdown",
   "id": "69d39ff4",
   "metadata": {},
   "source": [
    "########### ranf()  #########"
   ]
  },
  {
   "cell_type": "code",
   "execution_count": 20,
   "id": "c53d3c28",
   "metadata": {},
   "outputs": [
    {
     "name": "stdout",
     "output_type": "stream",
     "text": [
      "0.9406632269663638\n"
     ]
    }
   ],
   "source": [
    "var3 = np.random.ranf()\n",
    "print(var3)"
   ]
  },
  {
   "cell_type": "markdown",
   "id": "6de5de12",
   "metadata": {},
   "source": [
    "########## randint() ########"
   ]
  },
  {
   "cell_type": "code",
   "execution_count": 21,
   "id": "47c4e945",
   "metadata": {},
   "outputs": [
    {
     "name": "stdout",
     "output_type": "stream",
     "text": [
      "[18 18 10  7 12]\n"
     ]
    }
   ],
   "source": [
    "var4 = np.random.randint(5,20,5)\n",
    "print(var4)"
   ]
  },
  {
   "cell_type": "markdown",
   "id": "46e3c13d",
   "metadata": {},
   "source": [
    "# DATA TYPES IN NUMPY ARRAY"
   ]
  },
  {
   "cell_type": "raw",
   "id": "0ae75e09",
   "metadata": {},
   "source": [
    "Data Type           Description\n",
    "\n",
    "bool_               Boolean\n",
    "int_                Default integer type (int64 or int32)\n",
    "intc                Identical to the integer in C (int32 or int64)\n",
    "intp                Integer value used for indexing\n",
    "int8                8-bit integer value (-128 to 127)\n",
    "int16               16-bit integer value (-32768 to 32767)\n",
    "int32               32-bit integer value (-2147483648 to 2147483647)\n",
    "int64               64-bit integer value (-9223372036854775808 to 9223372036854775807)\n",
    "uint8               Unsigned 8-bit integer value (0 to 255)\n",
    "uint16              Unsigned 16-bit integer value (0 to 65535)\n",
    "uint32              Unsigned 32-bit integer value (0 to 4294967295)\n",
    "uint64              Unsigned 64-bit integer value (0 to 18446744073709551615)\n",
    "float_              Float values\n",
    "float16             Half precision float values\n",
    "float32             Single-precision float values\n",
    "float64             Double-precision float values\n",
    "complex_            Complex valueS\n",
    "complex64           Represent two 32-bit float complex values (real and imaginary)\n",
    "complex128          Represent two 64-bit float complex values (real and imaginary)\n"
   ]
  },
  {
   "cell_type": "code",
   "execution_count": 22,
   "id": "570ae7ae",
   "metadata": {},
   "outputs": [
    {
     "name": "stdout",
     "output_type": "stream",
     "text": [
      "data type : int32\n"
     ]
    }
   ],
   "source": [
    "var = np.array([1,2,3,4,5,6,7])\n",
    "print(\"data type :\",var.dtype)"
   ]
  },
  {
   "cell_type": "code",
   "execution_count": 23,
   "id": "096be913",
   "metadata": {},
   "outputs": [
    {
     "name": "stdout",
     "output_type": "stream",
     "text": [
      "data type : float64\n"
     ]
    }
   ],
   "source": [
    "var = np.array([1,2.0,3.9,4.6,5.5,6,7])\n",
    "print(\"data type :\",var.dtype)"
   ]
  },
  {
   "cell_type": "code",
   "execution_count": 24,
   "id": "9aeea823",
   "metadata": {},
   "outputs": [
    {
     "name": "stdout",
     "output_type": "stream",
     "text": [
      "data type : <U11\n"
     ]
    }
   ],
   "source": [
    "var = np.array([\"g\",\"h\",\"y\",1,7,5])\n",
    "print(\"data type :\",var.dtype)"
   ]
  },
  {
   "cell_type": "code",
   "execution_count": 25,
   "id": "805efc0c",
   "metadata": {},
   "outputs": [
    {
     "name": "stdout",
     "output_type": "stream",
     "text": [
      "data type : <U1\n"
     ]
    }
   ],
   "source": [
    "var = np.array([\"g\",\"h\",\"y\"])\n",
    "print(\"data type :\",var.dtype)"
   ]
  },
  {
   "cell_type": "markdown",
   "id": "f167640f",
   "metadata": {},
   "source": [
    "# list of charater that are used to represent dtype in numpy."
   ]
  },
  {
   "cell_type": "raw",
   "id": "c426a698",
   "metadata": {},
   "source": [
    "i = integer\n",
    "b = boolean \n",
    "u = unsigned integer \n",
    "f = float \n",
    "c = complex float \n",
    "m = timedelta \n",
    "M = datetime \n",
    "O = object \n",
    "S = string \n",
    "U = unicode string \n",
    "V = the fixed chunk of memory for other types(void)"
   ]
  },
  {
   "cell_type": "markdown",
   "id": "5b2a4011",
   "metadata": {},
   "source": [
    "convert dtype "
   ]
  },
  {
   "cell_type": "code",
   "execution_count": 26,
   "id": "a3b7bebe",
   "metadata": {},
   "outputs": [
    {
     "name": "stdout",
     "output_type": "stream",
     "text": [
      "data type: int8\n"
     ]
    }
   ],
   "source": [
    "x = np.array([1,2,3,6,4],dtype = np.int8)\n",
    "print(\"data type:\",x.dtype)"
   ]
  },
  {
   "cell_type": "code",
   "execution_count": 27,
   "id": "3a6440d6",
   "metadata": {
    "scrolled": true
   },
   "outputs": [
    {
     "name": "stdout",
     "output_type": "stream",
     "text": [
      "data type: float32\n",
      "[1. 2. 3. 6. 4.]\n"
     ]
    }
   ],
   "source": [
    "x = np.array([1,2,3,6,4],dtype = \"f\")\n",
    "print(\"data type:\",x.dtype)\n",
    "print(x)"
   ]
  },
  {
   "cell_type": "code",
   "execution_count": 28,
   "id": "a6cb3ece",
   "metadata": {},
   "outputs": [
    {
     "name": "stdout",
     "output_type": "stream",
     "text": [
      "data type: int32\n",
      "data type: float32\n",
      "[1 2 3 6 4]\n",
      "[1. 2. 3. 6. 4.]\n"
     ]
    }
   ],
   "source": [
    "x = np.array([1,2,3,6,4])\n",
    "\n",
    "new = np.float32(x)\n",
    "print(\"data type:\",x.dtype)\n",
    "print(\"data type:\",new.dtype)\n",
    "print(x)\n",
    "print(new)"
   ]
  },
  {
   "cell_type": "code",
   "execution_count": 29,
   "id": "6cba1121",
   "metadata": {},
   "outputs": [
    {
     "name": "stdout",
     "output_type": "stream",
     "text": [
      "data type: int32\n",
      "data type: float32\n",
      "data type: int32\n",
      "[1 2 3 6 4]\n",
      "[1. 2. 3. 6. 4.]\n",
      "[1 2 3 6 4]\n"
     ]
    }
   ],
   "source": [
    "x = np.array([1,2,3,6,4])\n",
    "\n",
    "new = np.float32(x)\n",
    "new1 = np.int_(new)\n",
    "print(\"data type:\",x.dtype)\n",
    "print(\"data type:\",new.dtype)\n",
    "print(\"data type:\",new1.dtype)\n",
    "print(x)\n",
    "print(new)\n",
    "print(new1)"
   ]
  },
  {
   "cell_type": "code",
   "execution_count": 30,
   "id": "7f6dabcb",
   "metadata": {},
   "outputs": [
    {
     "name": "stdout",
     "output_type": "stream",
     "text": [
      "[1 2 3 4]\n",
      "[1. 2. 3. 4.]\n"
     ]
    }
   ],
   "source": [
    "x = np.array([1,2,3,4])\n",
    "\n",
    "new1 = x.astype(float)\n",
    "print(x)\n",
    "print(new1)"
   ]
  },
  {
   "cell_type": "markdown",
   "id": "a1c2877f",
   "metadata": {},
   "source": [
    "# Shape and Reshape in NumPy"
   ]
  },
  {
   "cell_type": "code",
   "execution_count": 31,
   "id": "c2d5996b",
   "metadata": {},
   "outputs": [
    {
     "name": "stdout",
     "output_type": "stream",
     "text": [
      "[[1 3 7]\n",
      " [3 4 5]]\n",
      "\n",
      "(2, 3)\n"
     ]
    }
   ],
   "source": [
    "import numpy as np\n",
    "var = np.array([[1,3,7],[3,4,5]])\n",
    "print(var)\n",
    "\n",
    "print()\n",
    "print(var.shape)"
   ]
  },
  {
   "cell_type": "code",
   "execution_count": 32,
   "id": "b9527813",
   "metadata": {},
   "outputs": [
    {
     "name": "stdout",
     "output_type": "stream",
     "text": [
      "[[[[1 2 3 4]]]]\n",
      "4\n",
      "\n",
      "(1, 1, 1, 4)\n"
     ]
    }
   ],
   "source": [
    "var1 = np.array([1,2,3,4],ndmin=4)\n",
    "\n",
    "print(var1)\n",
    "print(var1.ndim)\n",
    "print()\n",
    "print(var1.shape)\n"
   ]
  },
  {
   "cell_type": "markdown",
   "id": "0c95d0b9",
   "metadata": {},
   "source": [
    "# RESHAPE"
   ]
  },
  {
   "cell_type": "code",
   "execution_count": 33,
   "id": "c93fd6fa",
   "metadata": {},
   "outputs": [
    {
     "name": "stdout",
     "output_type": "stream",
     "text": [
      "[1 2 3 4 5 6]\n",
      "1\n",
      "\n",
      "[[1 2]\n",
      " [3 4]\n",
      " [5 6]]\n",
      "2\n"
     ]
    }
   ],
   "source": [
    "var1 = np.array([1,2,3,4,5,6])\n",
    "print(var1)\n",
    "print(var1.ndim)\n",
    "print()\n",
    "\n",
    "x = var1.reshape(3,2)\n",
    "print(x)\n",
    "print(x.ndim)\n"
   ]
  },
  {
   "cell_type": "markdown",
   "id": "03455982",
   "metadata": {},
   "source": [
    "# (reshape in 3 d)"
   ]
  },
  {
   "cell_type": "code",
   "execution_count": 34,
   "id": "c3d729f6",
   "metadata": {},
   "outputs": [
    {
     "name": "stdout",
     "output_type": "stream",
     "text": [
      "[ 1  2  3  4  5  6  7  8  9 10 11 12]\n",
      "1\n",
      "\n",
      "[[[ 1  2]\n",
      "  [ 3  4]\n",
      "  [ 5  6]]\n",
      "\n",
      " [[ 7  8]\n",
      "  [ 9 10]\n",
      "  [11 12]]]\n",
      "3\n"
     ]
    }
   ],
   "source": [
    "var1 = np.array([1,2,3,4,5,6,7,8,9,10,11,12])\n",
    "print(var1)\n",
    "print(var1.ndim)\n",
    "print()\n",
    "\n",
    "x = var1.reshape(2,3,2)\n",
    "print(x)\n",
    "print(x.ndim)"
   ]
  },
  {
   "cell_type": "markdown",
   "id": "6b6d21f6",
   "metadata": {},
   "source": [
    "# (RESHAPE 1-D to 3-D to 1-D)"
   ]
  },
  {
   "cell_type": "code",
   "execution_count": 35,
   "id": "e6b40311",
   "metadata": {},
   "outputs": [
    {
     "name": "stdout",
     "output_type": "stream",
     "text": [
      "[ 1  2  3  4  5  6  7  8  9 10 11 12]\n",
      "1\n",
      "\n",
      "[[[ 1  2]\n",
      "  [ 3  4]\n",
      "  [ 5  6]]\n",
      "\n",
      " [[ 7  8]\n",
      "  [ 9 10]\n",
      "  [11 12]]]\n",
      "3\n",
      "\n",
      "[ 1  2  3  4  5  6  7  8  9 10 11 12]\n",
      "1\n"
     ]
    }
   ],
   "source": [
    "var1 = np.array([1,2,3,4,5,6,7,8,9,10,11,12])\n",
    "print(var1)\n",
    "print(var1.ndim)\n",
    "print()\n",
    "\n",
    "x = var1.reshape(2,3,2)\n",
    "print(x)\n",
    "print(x.ndim)\n",
    "\n",
    "print()\n",
    "one = x.reshape(-1)\n",
    "print(one)\n",
    "print(one.ndim)"
   ]
  },
  {
   "cell_type": "markdown",
   "id": "7d2c8540",
   "metadata": {},
   "source": [
    "# Arithmetic Operations in numpy"
   ]
  },
  {
   "cell_type": "raw",
   "id": "442ec23f",
   "metadata": {},
   "source": [
    ">>>  a+b         np.add(a,b)\n",
    ">>>  a-b         np.subtract(a,b)\n",
    ">>>  a*b         np.multiply(a,b)\n",
    ">>>  a/b         np.divide(a,b)\n",
    ">>>  a%b         np.mod(a,b)\n",
    ">>>  a**b        np.power(a,b)\n",
    ">>>  1/a         np.rciprocal(a)"
   ]
  },
  {
   "cell_type": "code",
   "execution_count": 36,
   "id": "7d609da4",
   "metadata": {},
   "outputs": [
    {
     "name": "stdout",
     "output_type": "stream",
     "text": [
      "[4 5 6 7]\n"
     ]
    }
   ],
   "source": [
    "import numpy as np\n",
    "\n",
    "var = np.array([1,2,3,4])\n",
    "varadd = var+3\n",
    "print(varadd)"
   ]
  },
  {
   "cell_type": "code",
   "execution_count": 37,
   "id": "bc3ce3b0",
   "metadata": {},
   "outputs": [
    {
     "name": "stdout",
     "output_type": "stream",
     "text": [
      "[-2 -1  0  1]\n"
     ]
    }
   ],
   "source": [
    "var = np.array([1,2,3,4])\n",
    "varadd = var-3\n",
    "print(varadd)"
   ]
  },
  {
   "cell_type": "code",
   "execution_count": 38,
   "id": "a97bccf3",
   "metadata": {},
   "outputs": [
    {
     "name": "stdout",
     "output_type": "stream",
     "text": [
      "[ 3  6  9 12]\n"
     ]
    }
   ],
   "source": [
    "var = np.array([1,2,3,4])\n",
    "varadd = var*3\n",
    "print(varadd)"
   ]
  },
  {
   "cell_type": "code",
   "execution_count": 39,
   "id": "8ee914f7",
   "metadata": {},
   "outputs": [
    {
     "name": "stdout",
     "output_type": "stream",
     "text": [
      "[0.33333333 0.66666667 1.         1.33333333]\n"
     ]
    }
   ],
   "source": [
    "var = np.array([1,2,3,4])\n",
    "varadd = var/3\n",
    "print(varadd)"
   ]
  },
  {
   "cell_type": "code",
   "execution_count": 40,
   "id": "6a17f864",
   "metadata": {},
   "outputs": [
    {
     "name": "stdout",
     "output_type": "stream",
     "text": [
      "[1 2 0 1]\n"
     ]
    }
   ],
   "source": [
    "var = np.array([1,2,3,4])\n",
    "varadd = var%3\n",
    "print(varadd)"
   ]
  },
  {
   "cell_type": "code",
   "execution_count": 41,
   "id": "275ae221",
   "metadata": {},
   "outputs": [
    {
     "name": "stdout",
     "output_type": "stream",
     "text": [
      "[ 1  8 27 64]\n"
     ]
    }
   ],
   "source": [
    "var = np.array([1,2,3,4])\n",
    "varadd = var**3\n",
    "print(varadd)"
   ]
  },
  {
   "cell_type": "code",
   "execution_count": 42,
   "id": "f579ec3c",
   "metadata": {},
   "outputs": [
    {
     "name": "stdout",
     "output_type": "stream",
     "text": [
      "[ 4  6  8 10]\n"
     ]
    }
   ],
   "source": [
    "var = np.array([1,2,3,4])\n",
    "var1 = np.array([3,4,5,6])\n",
    "varadd = var+var1\n",
    "print(varadd)"
   ]
  },
  {
   "cell_type": "code",
   "execution_count": 43,
   "id": "2b33acb9",
   "metadata": {},
   "outputs": [
    {
     "name": "stdout",
     "output_type": "stream",
     "text": [
      "[ 4  6  8 10]\n"
     ]
    }
   ],
   "source": [
    "var = np.array([1,2,3,4])\n",
    "var1 = np.array([3,4,5,6])\n",
    "varadd = np.add(var,var1)\n",
    "print(varadd)"
   ]
  },
  {
   "cell_type": "markdown",
   "id": "c8f1e25c",
   "metadata": {},
   "source": [
    "FOR 2-D ARRAY"
   ]
  },
  {
   "cell_type": "code",
   "execution_count": 44,
   "id": "124fba8b",
   "metadata": {},
   "outputs": [
    {
     "name": "stdout",
     "output_type": "stream",
     "text": [
      "[[ 3  5  7  9]\n",
      " [ 7  9 11 13]]\n"
     ]
    }
   ],
   "source": [
    "var = np.array([[1,2,3,4],[1,2,3,4]])\n",
    "var1 = np.array([[2,3,4,5],[6,7,8,9]])\n",
    "varadd = var + var1\n",
    "print(varadd)"
   ]
  },
  {
   "cell_type": "code",
   "execution_count": 45,
   "id": "9d7504d6",
   "metadata": {},
   "outputs": [
    {
     "name": "stdout",
     "output_type": "stream",
     "text": [
      "[[1 2 3 4]\n",
      " [1 2 3 4]]\n",
      "\n",
      "[[2 3 4 5]\n",
      " [6 7 8 9]]\n",
      "\n",
      "[[ 3  5  7  9]\n",
      " [ 7  9 11 13]]\n"
     ]
    }
   ],
   "source": [
    "var = np.array([[1,2,3,4],[1,2,3,4]])\n",
    "var1 = np.array([[2,3,4,5],[6,7,8,9]])\n",
    "print(var)\n",
    "print()\n",
    "print(var1)\n",
    "print()\n",
    "\n",
    "varadd = var + var1\n",
    "print(varadd)"
   ]
  },
  {
   "cell_type": "markdown",
   "id": "2ade061c",
   "metadata": {},
   "source": [
    "OTHER ARITHMATIC FUNCTIONS"
   ]
  },
  {
   "cell_type": "raw",
   "id": "c97bf2dd",
   "metadata": {},
   "source": [
    ">>> NP.MAX(X)\n",
    ">>> np.min(x)\n",
    ">>> np.argmin(x)\n",
    ">>> np.sqrt(x)\n",
    ">>> np.sin(x)\n",
    ">>> np.cos(x)\n",
    ">>> np.cumsum(x)"
   ]
  },
  {
   "cell_type": "code",
   "execution_count": 46,
   "id": "1bf66f87",
   "metadata": {},
   "outputs": [
    {
     "name": "stdout",
     "output_type": "stream",
     "text": [
      "min :  1 0\n",
      "\n",
      "max :  14 7\n",
      "\n",
      "sqrt:  [1.         1.41421356 1.73205081 2.         3.31662479 3.46410162\n",
      " 3.60555128 3.74165739]\n"
     ]
    }
   ],
   "source": [
    "var = np.array([1,2,3,4,11,12,13,14])\n",
    "print(\"min : \",np.min(var),np.argmin(var))\n",
    "print()\n",
    "print(\"max : \",np.max(var),np.argmax(var))\n",
    "print()\n",
    "print(\"sqrt: \",np.sqrt(var))"
   ]
  },
  {
   "cell_type": "code",
   "execution_count": 47,
   "id": "b58ecd1c",
   "metadata": {},
   "outputs": [
    {
     "name": "stdout",
     "output_type": "stream",
     "text": [
      "[ 0.84147098  0.90929743  0.14112001 -0.7568025 ]\n",
      "\n",
      "[ 0.54030231 -0.41614684 -0.9899925  -0.65364362]\n",
      "\n",
      "[ 1  3  6 10]\n"
     ]
    }
   ],
   "source": [
    "var = np.array([1,2,3,4])\n",
    "print(np.sin(var))\n",
    "print()\n",
    "print(np.cos(var))\n",
    "print()\n",
    "print(np.cumsum(var))"
   ]
  },
  {
   "cell_type": "code",
   "execution_count": 48,
   "id": "c5bc3df5",
   "metadata": {},
   "outputs": [
    {
     "name": "stdout",
     "output_type": "stream",
     "text": [
      "[1 2 3]\n"
     ]
    }
   ],
   "source": [
    "var = np.array([[1,2,3],[11,12,13]])\n",
    "print(np.min(var,axis=0))"
   ]
  },
  {
   "cell_type": "markdown",
   "id": "2b8754a1",
   "metadata": {},
   "source": [
    "# BROADCASTING WITH NUMPY ARRAY"
   ]
  },
  {
   "cell_type": "code",
   "execution_count": 49,
   "id": "53ca3a0a",
   "metadata": {},
   "outputs": [
    {
     "name": "stdout",
     "output_type": "stream",
     "text": [
      "(4,)\n",
      "\n",
      "[1 2 3 4]\n",
      "\n",
      "(4, 1)\n",
      "\n",
      "[[3]\n",
      " [4]\n",
      " [5]\n",
      " [6]]\n",
      "\n",
      "[[ 4  5  6  7]\n",
      " [ 5  6  7  8]\n",
      " [ 6  7  8  9]\n",
      " [ 7  8  9 10]]\n"
     ]
    }
   ],
   "source": [
    "var = np.array([1,2,3,4])\n",
    "print(var.shape)\n",
    "print()\n",
    "print(var)\n",
    "print()\n",
    "var1 = np.array([[3],[4],[5],[6]])\n",
    "print(var1.shape)\n",
    "print()\n",
    "print(var1)\n",
    "print()\n",
    "print(var+var1)\n"
   ]
  },
  {
   "cell_type": "markdown",
   "id": "2b76e0c0",
   "metadata": {},
   "source": [
    "# INDEXING & SLICING"
   ]
  },
  {
   "cell_type": "code",
   "execution_count": 50,
   "id": "802a832e",
   "metadata": {},
   "outputs": [
    {
     "name": "stdout",
     "output_type": "stream",
     "text": [
      "[[5 2 8 6]\n",
      " [8 5 4 2]]\n",
      "2\n",
      "8\n"
     ]
    }
   ],
   "source": [
    "var = np.array([[5,2,8,6],[8,5,4,2]])\n",
    "print(var)\n",
    "print(var.ndim)\n",
    "print(var[0,2])"
   ]
  },
  {
   "cell_type": "code",
   "execution_count": 51,
   "id": "94ff83cb",
   "metadata": {},
   "outputs": [
    {
     "name": "stdout",
     "output_type": "stream",
     "text": [
      "[[[5 2 8 6]\n",
      "  [8 5 4 2]\n",
      "  [4 2 9 3]]]\n",
      "3\n",
      "2\n"
     ]
    }
   ],
   "source": [
    "var = np.array([[[5,2,8,6],[8,5,4,2],[4,2,9,3]]])\n",
    "print(var)\n",
    "print(var.ndim)\n",
    "print(var[0,2,1])"
   ]
  },
  {
   "cell_type": "markdown",
   "id": "47582488",
   "metadata": {},
   "source": [
    "# SLICING"
   ]
  },
  {
   "cell_type": "code",
   "execution_count": 52,
   "id": "d3622874",
   "metadata": {},
   "outputs": [
    {
     "name": "stdout",
     "output_type": "stream",
     "text": [
      "[ 5  2  8  6 81 50  4 12]\n",
      "1\n",
      "[ 2  8  6 81]\n",
      "[ 2  8  6 81 50  4 12]\n",
      "[ 5  2  8  6 81 50  4]\n",
      "[12]\n",
      "stop: [2 6]\n"
     ]
    }
   ],
   "source": [
    "import numpy as np\n",
    "var = np.array([5,2,8,6,81,50,4,12])\n",
    "print(var)\n",
    "print(var.ndim)\n",
    "print(var[1:5])\n",
    "print(var[1:])\n",
    "print(var[:-1])\n",
    "print(var[-1:])\n",
    "print(\"stop:\",var[1:5:2])"
   ]
  },
  {
   "cell_type": "code",
   "execution_count": 53,
   "id": "db7141f2",
   "metadata": {},
   "outputs": [
    {
     "name": "stdout",
     "output_type": "stream",
     "text": [
      "[[ 1  2  3  4  5]\n",
      " [ 9  8  7  6  5]\n",
      " [11 12 13 14 15]]\n",
      "\n",
      "8 to 5 : [12 13 14 15]\n"
     ]
    }
   ],
   "source": [
    "import numpy as np\n",
    "var = np.array([[1,2,3,4,5],[9,8,7,6,5],[11,12,13,14,15]])\n",
    "\n",
    "print(var)\n",
    "print()\n",
    "print(\"8 to 5 :\",var[2,1:])"
   ]
  },
  {
   "cell_type": "markdown",
   "id": "5f2c28cb",
   "metadata": {},
   "source": [
    "# ITERATION IN NUMPY"
   ]
  },
  {
   "cell_type": "code",
   "execution_count": 54,
   "id": "5accd1b3",
   "metadata": {},
   "outputs": [
    {
     "name": "stdout",
     "output_type": "stream",
     "text": [
      "[[[1 2 3 4]\n",
      "  [4 5 6 7]\n",
      "  [9 8 7 6]]]\n",
      "3\n",
      "\n",
      "[[1 2 3 4]\n",
      " [4 5 6 7]\n",
      " [9 8 7 6]]\n",
      "\n",
      "1\n",
      "2\n",
      "3\n",
      "4\n",
      "4\n",
      "5\n",
      "6\n",
      "7\n",
      "9\n",
      "8\n",
      "7\n",
      "6\n"
     ]
    }
   ],
   "source": [
    "var = np.array([[[1,2,3,4],[4,5,6,7],[9,8,7,6]]])\n",
    "print(var)\n",
    "print(var.ndim)\n",
    "print()\n",
    "for i in var:\n",
    "    print(i)\n",
    "print()\n",
    "\n",
    "for i in var:\n",
    "    for j in i:\n",
    "        for k in j:\n",
    "            print(k)"
   ]
  },
  {
   "cell_type": "markdown",
   "id": "3b907396",
   "metadata": {},
   "source": [
    "nditer function(use insted of for loop)"
   ]
  },
  {
   "cell_type": "code",
   "execution_count": 55,
   "id": "7f6dda56",
   "metadata": {},
   "outputs": [
    {
     "name": "stdout",
     "output_type": "stream",
     "text": [
      "[[[1 2 3 4]\n",
      "  [4 5 6 7]\n",
      "  [9 8 7 6]]]\n",
      "3\n",
      "\n",
      "1\n",
      "2\n",
      "3\n",
      "4\n",
      "4\n",
      "5\n",
      "6\n",
      "7\n",
      "9\n",
      "8\n",
      "7\n",
      "6\n"
     ]
    }
   ],
   "source": [
    "var = np.array([[[1,2,3,4],[4,5,6,7],[9,8,7,6]]])\n",
    "print(var)\n",
    "print(var.ndim)\n",
    "print()\n",
    "for i in np.nditer(var):\n",
    "    print(i)"
   ]
  },
  {
   "cell_type": "markdown",
   "id": "04bb2318",
   "metadata": {},
   "source": [
    "if we change datatype"
   ]
  },
  {
   "cell_type": "code",
   "execution_count": 56,
   "id": "5458b77c",
   "metadata": {},
   "outputs": [
    {
     "name": "stdout",
     "output_type": "stream",
     "text": [
      "[[[1 2 3 4]\n",
      "  [4 5 6 7]\n",
      "  [9 8 7 6]]]\n",
      "3\n",
      "\n",
      "b'1'\n",
      "b'2'\n",
      "b'3'\n",
      "b'4'\n",
      "b'4'\n",
      "b'5'\n",
      "b'6'\n",
      "b'7'\n",
      "b'9'\n",
      "b'8'\n",
      "b'7'\n",
      "b'6'\n"
     ]
    }
   ],
   "source": [
    "var = np.array([[[1,2,3,4],[4,5,6,7],[9,8,7,6]]])\n",
    "print(var)\n",
    "print(var.ndim)\n",
    "print()\n",
    "for i in np.nditer(var,flags=['buffered'],op_dtypes=[\"S\"]):\n",
    "    print(i)"
   ]
  },
  {
   "cell_type": "markdown",
   "id": "5973eccd",
   "metadata": {},
   "source": [
    "indexing in for loop (np.ndenumerate())"
   ]
  },
  {
   "cell_type": "code",
   "execution_count": 57,
   "id": "05b74d23",
   "metadata": {},
   "outputs": [
    {
     "name": "stdout",
     "output_type": "stream",
     "text": [
      "(0, 0, 0) 1\n",
      "(0, 0, 1) 2\n",
      "(0, 0, 2) 3\n",
      "(0, 0, 3) 4\n",
      "(0, 1, 0) 4\n",
      "(0, 1, 1) 5\n",
      "(0, 1, 2) 6\n",
      "(0, 1, 3) 7\n",
      "(0, 2, 0) 9\n",
      "(0, 2, 1) 8\n",
      "(0, 2, 2) 7\n",
      "(0, 2, 3) 6\n"
     ]
    }
   ],
   "source": [
    "var = np.array([[[1,2,3,4],[4,5,6,7],[9,8,7,6]]])\n",
    "\n",
    "for i,d in np.ndenumerate(var):\n",
    "    print(i,d)"
   ]
  },
  {
   "cell_type": "markdown",
   "id": "9aa70ca4",
   "metadata": {},
   "source": [
    "# COPY AND VIEW IN NUMPY ARRAY"
   ]
  },
  {
   "cell_type": "code",
   "execution_count": 58,
   "id": "e53c39d3",
   "metadata": {},
   "outputs": [
    {
     "name": "stdout",
     "output_type": "stream",
     "text": [
      "var:  [[[40 40 40 40]\n",
      "  [40 40 40 40]\n",
      "  [40 40 40 40]]]\n",
      "\n",
      "var:  [[[1 2 3 4]\n",
      "  [4 5 6 7]\n",
      "  [9 8 7 6]]]\n"
     ]
    }
   ],
   "source": [
    "var = np.array([[[1,2,3,4],[4,5,6,7],[9,8,7,6]]])\n",
    "co = var.copy()\n",
    "var[0:3]=40\n",
    "print(\"var: \",var)\n",
    "print()\n",
    "print(\"var: \",co)\n"
   ]
  },
  {
   "cell_type": "markdown",
   "id": "d845e49d",
   "metadata": {},
   "source": [
    "COPY = IF WE CHANGE DATA, NO CHANGE IN COPY DATA"
   ]
  },
  {
   "cell_type": "code",
   "execution_count": 59,
   "id": "99d030a7",
   "metadata": {},
   "outputs": [
    {
     "name": "stdout",
     "output_type": "stream",
     "text": [
      "var:  [[[40 40 40 40]\n",
      "  [40 40 40 40]\n",
      "  [40 40 40 40]]]\n",
      "\n",
      "view:  [[[40 40 40 40]\n",
      "  [40 40 40 40]\n",
      "  [40 40 40 40]]]\n"
     ]
    }
   ],
   "source": [
    "var = np.array([[[1,2,3,4],[4,5,6,7],[9,8,7,6]]])\n",
    "vi = var.view()\n",
    "var[0:3]=40\n",
    "print(\"var: \",var)\n",
    "print()\n",
    "print(\"view: \",vi)"
   ]
  },
  {
   "cell_type": "markdown",
   "id": "6e77092b",
   "metadata": {},
   "source": [
    "VIEW = IF WE CHANGE DATA, THEIR IS CHANGE IN VIEW DATA"
   ]
  },
  {
   "cell_type": "markdown",
   "id": "56596570",
   "metadata": {},
   "source": [
    "# JOIN AND SPLIT METHOD"
   ]
  },
  {
   "cell_type": "code",
   "execution_count": 60,
   "id": "1ec8f8c5",
   "metadata": {},
   "outputs": [
    {
     "name": "stdout",
     "output_type": "stream",
     "text": [
      "[1 2 3 4 2 3 4 5]\n"
     ]
    }
   ],
   "source": [
    "var = np.array([1,2,3,4])\n",
    "var1 = np.array([2,3,4,5])\n",
    "ar = np.concatenate((var,var1))\n",
    "print(ar)"
   ]
  },
  {
   "cell_type": "code",
   "execution_count": 61,
   "id": "183c0a3a",
   "metadata": {},
   "outputs": [
    {
     "name": "stdout",
     "output_type": "stream",
     "text": [
      "[[1 2 3 4]\n",
      " [1 2 3 4]\n",
      " [2 3 4 5]\n",
      " [6 7 8 9]]\n",
      "\n",
      "[[1 2 3 4 2 3 4 5]\n",
      " [1 2 3 4 6 7 8 9]]\n"
     ]
    }
   ],
   "source": [
    "var = np.array([[1,2,3,4],[1,2,3,4]])\n",
    "var1 = np.array([[2,3,4,5],[6,7,8,9]])\n",
    "ar = np.concatenate((var,var1))\n",
    "ar_new = np.concatenate((var,var1),axis=1)\n",
    "print(ar)\n",
    "print()\n",
    "print(ar_new)"
   ]
  },
  {
   "cell_type": "markdown",
   "id": "a2be9b39",
   "metadata": {},
   "source": [
    "STACK FUNCTION \n",
    "1) VERTICAL\n",
    "2)HORIJONTLY\n",
    "3)DIMAENSION"
   ]
  },
  {
   "cell_type": "code",
   "execution_count": 62,
   "id": "ab234f1c",
   "metadata": {
    "scrolled": true
   },
   "outputs": [
    {
     "name": "stdout",
     "output_type": "stream",
     "text": [
      "[[1 2 3 4]\n",
      " [2 3 4 5]]\n"
     ]
    }
   ],
   "source": [
    "var = np.array([1,2,3,4])\n",
    "var1 = np.array([2,3,4,5])\n",
    "ar = np.stack((var,var1),axis=0)\n",
    "print(ar)"
   ]
  },
  {
   "cell_type": "code",
   "execution_count": 63,
   "id": "faa5a1dc",
   "metadata": {},
   "outputs": [
    {
     "name": "stdout",
     "output_type": "stream",
     "text": [
      "[[1 2]\n",
      " [2 3]\n",
      " [3 4]\n",
      " [4 5]]\n",
      "\n",
      "[[1 2 3 4]\n",
      " [2 3 4 5]]\n",
      "\n",
      "[1 2 3 4 2 3 4 5]\n",
      "\n",
      "[[[1 2]\n",
      "  [2 3]\n",
      "  [3 4]\n",
      "  [4 5]]]\n"
     ]
    }
   ],
   "source": [
    "var = np.array([1,2,3,4])\n",
    "var1 = np.array([2,3,4,5])\n",
    "ar = np.stack((var,var1),axis=1)\n",
    "ar0 = np.vstack((var,var1)) # columns\n",
    "ar1 = np.hstack((var,var1)) # rows\n",
    "ar2= np.dstack((var,var1)) # height\n",
    "print(ar)\n",
    "print()\n",
    "print(ar0)\n",
    "print()\n",
    "print(ar1)\n",
    "print()\n",
    "print(ar2)"
   ]
  },
  {
   "cell_type": "markdown",
   "id": "cf2db39c",
   "metadata": {},
   "source": [
    "# SPLIT ARRAY"
   ]
  },
  {
   "cell_type": "code",
   "execution_count": 64,
   "id": "2a09517f",
   "metadata": {},
   "outputs": [
    {
     "name": "stdout",
     "output_type": "stream",
     "text": [
      "[array([1, 2]), array([3]), array([4])]\n",
      "\n",
      "[3]\n"
     ]
    }
   ],
   "source": [
    "var = np.array([1,2,3,4])\n",
    "\n",
    "ar = np.array_split(var,3)\n",
    "print(ar)\n",
    "print()\n",
    "print(ar[1])"
   ]
  },
  {
   "cell_type": "code",
   "execution_count": 65,
   "id": "62b9468b",
   "metadata": {},
   "outputs": [
    {
     "name": "stdout",
     "output_type": "stream",
     "text": [
      "[array([[1, 2],\n",
      "       [3, 4]]), array([[1, 2],\n",
      "       [8, 9]])]\n"
     ]
    }
   ],
   "source": [
    "var = np.array([[1,2],[3,4],[1,2],[8,9]])\n",
    "\n",
    "ar = np.array_split(var,2,axis=0)\n",
    "print(ar)"
   ]
  },
  {
   "cell_type": "markdown",
   "id": "7be4cd05",
   "metadata": {},
   "source": [
    "# NUMPY ARRAY FUNCTION (SEARCH, SORT, SEARCH SORTED, FILTER)"
   ]
  },
  {
   "cell_type": "code",
   "execution_count": 66,
   "id": "22775643",
   "metadata": {},
   "outputs": [
    {
     "name": "stdout",
     "output_type": "stream",
     "text": [
      "(array([1, 3, 4, 6], dtype=int64),)\n"
     ]
    }
   ],
   "source": [
    "var = np.array([1,2,3,4,6,7,8,9])\n",
    "\n",
    "ar = np.where((var%2)==0)\n",
    "print(ar)"
   ]
  },
  {
   "cell_type": "markdown",
   "id": "1b2a8ab5",
   "metadata": {},
   "source": [
    "#search sorted array = which perform a binary search in the array, and return the index where the specified value would be inserted tomaintain the search order\n",
    "\n"
   ]
  },
  {
   "cell_type": "code",
   "execution_count": 67,
   "id": "e4328cc0",
   "metadata": {},
   "outputs": [
    {
     "name": "stdout",
     "output_type": "stream",
     "text": [
      "4\n"
     ]
    }
   ],
   "source": [
    "var = np.array([1,2,3,4,6,7,8,9])\n",
    "\n",
    "ar = np.searchsorted(var,5)\n",
    "print(ar)"
   ]
  },
  {
   "cell_type": "code",
   "execution_count": 68,
   "id": "55408b3c",
   "metadata": {},
   "outputs": [
    {
     "name": "stdout",
     "output_type": "stream",
     "text": [
      "[4 5 6]\n"
     ]
    }
   ],
   "source": [
    "var = np.array([1,2,3,4,6,7,8,9])\n",
    "\n",
    "ar = np.searchsorted(var,[5,6,7],side = \"right\")\n",
    "print(ar)"
   ]
  },
  {
   "cell_type": "markdown",
   "id": "1c458c87",
   "metadata": {},
   "source": [
    "sorted array : ordered sequence is any sequence that has an order corresponding to elemnts, like numeric or alphabetical, ascending or descending."
   ]
  },
  {
   "cell_type": "code",
   "execution_count": 69,
   "id": "824ee65a",
   "metadata": {},
   "outputs": [
    {
     "name": "stdout",
     "output_type": "stream",
     "text": [
      "[1 2 3 4 6 7 8 9]\n"
     ]
    }
   ],
   "source": [
    "var = np.array([1,2,3,4,6,7,8,9])\n",
    "\n",
    "\n",
    "print(np.sort(var))"
   ]
  },
  {
   "cell_type": "code",
   "execution_count": 70,
   "id": "10fcd7c2",
   "metadata": {},
   "outputs": [
    {
     "name": "stdout",
     "output_type": "stream",
     "text": [
      "['cv' 'e' 'fg' 'ty']\n"
     ]
    }
   ],
   "source": [
    "var = np.array([\"e\",\"fg\",\"cv\",\"ty\"])\n",
    "\n",
    "\n",
    "print(np.sort(var))"
   ]
  },
  {
   "cell_type": "markdown",
   "id": "1a42300d",
   "metadata": {},
   "source": [
    "filter function : getting some elements out of an existing array and creating a new array out of them."
   ]
  },
  {
   "cell_type": "code",
   "execution_count": 71,
   "id": "0b684e96",
   "metadata": {},
   "outputs": [
    {
     "name": "stdout",
     "output_type": "stream",
     "text": [
      "['e' 'ty']\n",
      "<class 'numpy.ndarray'>\n"
     ]
    }
   ],
   "source": [
    "var = np.array([\"e\",\"fg\",\"cv\",\"ty\"])\n",
    "f = [True,False,False,True]\n",
    "new = var[f]\n",
    "\n",
    "print(new)\n",
    "print(type(new))"
   ]
  },
  {
   "cell_type": "markdown",
   "id": "f995dd8d",
   "metadata": {},
   "source": [
    "# Shuffle, Unique, Resize, Flatten, Ravel Functions"
   ]
  },
  {
   "cell_type": "markdown",
   "id": "fc63371b",
   "metadata": {},
   "source": [
    "shuffle"
   ]
  },
  {
   "cell_type": "code",
   "execution_count": 72,
   "id": "599c8586",
   "metadata": {},
   "outputs": [
    {
     "name": "stdout",
     "output_type": "stream",
     "text": [
      "['ty' 'fg' 'cv' 'e']\n"
     ]
    }
   ],
   "source": [
    "var = np.array([\"e\",\"fg\",\"cv\",\"ty\"])\n",
    "\n",
    "np.random.shuffle(var)\n",
    "print(var)"
   ]
  },
  {
   "cell_type": "markdown",
   "id": "9f79ebb5",
   "metadata": {},
   "source": [
    "unique"
   ]
  },
  {
   "cell_type": "code",
   "execution_count": 73,
   "id": "0880cc0e",
   "metadata": {},
   "outputs": [
    {
     "name": "stdout",
     "output_type": "stream",
     "text": [
      "(array(['cv', 'e', 'fg', 'ty'], dtype='<U2'), array([1, 0, 4, 2], dtype=int64), array([3, 1, 1, 2], dtype=int64))\n"
     ]
    }
   ],
   "source": [
    "var = np.array([\"e\",\"cv\",\"ty\",\"cv\",\"fg\",\"cv\",\"ty\"])\n",
    "x = np.unique(var,return_index=True,return_counts=True)\n",
    "\n",
    "print(x)"
   ]
  },
  {
   "cell_type": "markdown",
   "id": "8f885bd6",
   "metadata": {},
   "source": [
    "resize"
   ]
  },
  {
   "cell_type": "code",
   "execution_count": 74,
   "id": "791ef4f6",
   "metadata": {},
   "outputs": [
    {
     "name": "stdout",
     "output_type": "stream",
     "text": [
      "[['e' 'cv' 'ty']\n",
      " ['cv' 'fg' 'cv']]\n"
     ]
    }
   ],
   "source": [
    "var = np.array([\"e\",\"cv\",\"ty\",\"cv\",\"fg\",\"cv\",\"ty\"])\n",
    "x = np.resize(var,(2,3))\n",
    "\n",
    "print(x)"
   ]
  },
  {
   "cell_type": "markdown",
   "id": "22ef9766",
   "metadata": {},
   "source": [
    "flatten , RAVEL"
   ]
  },
  {
   "cell_type": "markdown",
   "id": "506a9439",
   "metadata": {},
   "source": [
    "it convert 2-d to 1-d array \n",
    "\n",
    "ORDER(C, F, K, A)"
   ]
  },
  {
   "cell_type": "code",
   "execution_count": 75,
   "id": "2bc126b8",
   "metadata": {},
   "outputs": [
    {
     "name": "stdout",
     "output_type": "stream",
     "text": [
      "[['e' 'cv' 'ty']\n",
      " ['cv' 'fg' 'cv']]\n",
      "\n",
      "flatten:  ['e' 'cv' 'cv' 'fg' 'ty' 'cv']\n",
      "ravel:  ['e' 'cv' 'cv' 'fg' 'ty' 'cv']\n",
      "ravel:  ['e' 'cv' 'ty' 'cv' 'fg' 'cv']\n"
     ]
    }
   ],
   "source": [
    "var = np.array([\"e\",\"cv\",\"ty\",\"cv\",\"fg\",\"cv\",\"ty\"])\n",
    "x = np.resize(var,(2,3))\n",
    "print(x)\n",
    "print()\n",
    "print(\"flatten: \",x.flatten(order = \"F\"))\n",
    "print(\"ravel: \",np.ravel(x,order = \"F\"))\n",
    "print(\"ravel: \",np.ravel(x,order = \"K\"))"
   ]
  },
  {
   "cell_type": "markdown",
   "id": "d9208cf4",
   "metadata": {},
   "source": [
    "# INSERT AND DELETE FUNCTION"
   ]
  },
  {
   "cell_type": "code",
   "execution_count": 76,
   "id": "51e0854e",
   "metadata": {},
   "outputs": [
    {
     "name": "stdout",
     "output_type": "stream",
     "text": [
      "[1 2 3 4]\n",
      "\n",
      "[ 1  2  3  4 65]\n"
     ]
    }
   ],
   "source": [
    "var = np.array([1,2,3,4])\n",
    "print(var)\n",
    "print()\n",
    "x = np.append(var,65)\n",
    "print(x)"
   ]
  },
  {
   "cell_type": "code",
   "execution_count": 77,
   "id": "c1c47261",
   "metadata": {},
   "outputs": [
    {
     "name": "stdout",
     "output_type": "stream",
     "text": [
      "[[ 1  2  3]\n",
      " [22 33 44]\n",
      " [ 5  7  9]]\n",
      "\n",
      "[[ 1  2  3]\n",
      " [ 5  7  9]\n",
      " [22 33 44]]\n"
     ]
    }
   ],
   "source": [
    "var = np.array([[1,2,3],[5,7,9]])\n",
    "\n",
    "x = np.insert(var,1,[22,33,44],axis= 0)\n",
    "print(x)\n",
    "print()\n",
    "x1 = np.append(var,[[22,33,44]],axis= 0)\n",
    "print(x1)"
   ]
  },
  {
   "cell_type": "code",
   "execution_count": 78,
   "id": "18417906",
   "metadata": {},
   "outputs": [
    {
     "name": "stdout",
     "output_type": "stream",
     "text": [
      "[1 3 5 7 9]\n",
      "\n"
     ]
    }
   ],
   "source": [
    "var = np.array([[1,2,3],[5,7,9]])\n",
    "\n",
    "x = np.delete(var,1)\n",
    "print(x)\n",
    "print()\n",
    "\n"
   ]
  },
  {
   "cell_type": "markdown",
   "id": "aff833fc",
   "metadata": {},
   "source": [
    "# MATRIX IN NUMPY"
   ]
  },
  {
   "cell_type": "code",
   "execution_count": 79,
   "id": "3cb4218f",
   "metadata": {},
   "outputs": [
    {
     "name": "stdout",
     "output_type": "stream",
     "text": [
      "[[1 2]\n",
      " [2 3]]\n",
      "<class 'numpy.matrix'>\n",
      "\n",
      "[[10 13]\n",
      " [16 21]]\n",
      "\n",
      "[[10 13]\n",
      " [16 21]]\n"
     ]
    }
   ],
   "source": [
    "var = np.matrix([[1,2],[2,3]])\n",
    "var1 = np.matrix([[2,3],[4,5]])\n",
    "\n",
    "print(var)\n",
    "\n",
    "print(type(var))\n",
    "print()\n",
    "print(var*var1)\n",
    "print()\n",
    "print(var.dot(var1))"
   ]
  },
  {
   "cell_type": "code",
   "execution_count": 80,
   "id": "af0a9a8b",
   "metadata": {},
   "outputs": [
    {
     "name": "stdout",
     "output_type": "stream",
     "text": [
      "[[1 2 3]\n",
      " [4 5 6]]\n",
      "<class 'numpy.ndarray'>\n",
      "\n",
      "[[ 1  4  9]\n",
      " [16 25 36]]\n"
     ]
    }
   ],
   "source": [
    "var = np.array([[1,2,3],[4,5,6]])\n",
    "print(var)\n",
    "print(type(var))\n",
    "print()\n",
    "print(var*var)"
   ]
  },
  {
   "cell_type": "markdown",
   "id": "496dcb64",
   "metadata": {},
   "source": [
    "# MATRIX FUNCTION IN NUMPY ARRAY"
   ]
  },
  {
   "cell_type": "raw",
   "id": "826df0f9",
   "metadata": {},
   "source": [
    ">>  TRANSPOSE\n",
    ">>  SWAPAXES\n",
    ">>  INVERSE\n",
    ">>  POWER\n",
    ">>  DETERMINATE"
   ]
  },
  {
   "cell_type": "markdown",
   "id": "e47eb406",
   "metadata": {},
   "source": [
    ">> TRANSPOSE  <<<<<<"
   ]
  },
  {
   "cell_type": "code",
   "execution_count": 81,
   "id": "3e426897",
   "metadata": {},
   "outputs": [
    {
     "name": "stdout",
     "output_type": "stream",
     "text": [
      "[[1 2 3]\n",
      " [4 2 8]]\n",
      "\n",
      "[[1 4]\n",
      " [2 2]\n",
      " [3 8]]\n"
     ]
    }
   ],
   "source": [
    "var = np.matrix([[1,2,3],[4,2,8]])\n",
    "print(var)\n",
    "print()\n",
    "print(np.transpose(var))"
   ]
  },
  {
   "cell_type": "code",
   "execution_count": 82,
   "id": "abd3b024",
   "metadata": {},
   "outputs": [
    {
     "name": "stdout",
     "output_type": "stream",
     "text": [
      "[[1 4]\n",
      " [2 2]\n",
      " [3 8]]\n"
     ]
    }
   ],
   "source": [
    "var = np.matrix([[1,2,3],[4,2,8]])\n",
    "print(var.T)"
   ]
  },
  {
   "cell_type": "markdown",
   "id": "2290563f",
   "metadata": {},
   "source": [
    ">> SWAPAXES   <<<<<<<<"
   ]
  },
  {
   "cell_type": "code",
   "execution_count": 83,
   "id": "c9bd3893",
   "metadata": {},
   "outputs": [
    {
     "name": "stdout",
     "output_type": "stream",
     "text": [
      "[[1 2 3]\n",
      " [4 2 8]]\n",
      "\n",
      "[[1 4]\n",
      " [2 2]\n",
      " [3 8]]\n"
     ]
    }
   ],
   "source": [
    "var = np.matrix([[1,2,3],[4,2,8]])\n",
    "print(var)\n",
    "print()\n",
    "print(np.swapaxes(var,0,1))"
   ]
  },
  {
   "cell_type": "markdown",
   "id": "649de50d",
   "metadata": {},
   "source": [
    ">> INVERSE  <<<<<<<<<"
   ]
  },
  {
   "cell_type": "code",
   "execution_count": 84,
   "id": "31eaf042",
   "metadata": {},
   "outputs": [
    {
     "name": "stdout",
     "output_type": "stream",
     "text": [
      "[[1 2]\n",
      " [4 2]]\n",
      "\n",
      "[[-0.33333333  0.33333333]\n",
      " [ 0.66666667 -0.16666667]]\n"
     ]
    }
   ],
   "source": [
    "var = np.matrix([[1,2],[4,2]])\n",
    "print(var)\n",
    "print()\n",
    "print(np.linalg.inv(var))"
   ]
  },
  {
   "cell_type": "code",
   "execution_count": null,
   "id": "b39151f6",
   "metadata": {},
   "outputs": [],
   "source": []
  },
  {
   "cell_type": "markdown",
   "id": "ab5594b6",
   "metadata": {},
   "source": [
    ">>  POWER   <<<<<<<"
   ]
  },
  {
   "cell_type": "code",
   "execution_count": 85,
   "id": "90f67b93",
   "metadata": {},
   "outputs": [
    {
     "name": "stdout",
     "output_type": "stream",
     "text": [
      "[[1 2]\n",
      " [4 2]]\n",
      "\n",
      "[[ 9  6]\n",
      " [12 12]]\n"
     ]
    }
   ],
   "source": [
    "var = np.matrix([[1,2],[4,2]])\n",
    "print(var)\n",
    "print()\n",
    "print(np.linalg.matrix_power(var,2))"
   ]
  },
  {
   "cell_type": "markdown",
   "id": "c5ac92c2",
   "metadata": {},
   "source": [
    ">>   DETERMINATE  <<<<<<<"
   ]
  },
  {
   "cell_type": "code",
   "execution_count": 89,
   "id": "4b549ceb",
   "metadata": {},
   "outputs": [
    {
     "name": "stdout",
     "output_type": "stream",
     "text": [
      "[[1 2]\n",
      " [4 2]]\n",
      "\n",
      "-6.0\n"
     ]
    }
   ],
   "source": [
    "var = np.matrix([[1,2],[4,2]])\n",
    "print(var)\n",
    "print()\n",
    "print(np.linalg.det(var))"
   ]
  },
  {
   "cell_type": "code",
   "execution_count": null,
   "id": "37132320",
   "metadata": {},
   "outputs": [],
   "source": []
  }
 ],
 "metadata": {
  "kernelspec": {
   "display_name": "Python 3 (ipykernel)",
   "language": "python",
   "name": "python3"
  },
  "language_info": {
   "codemirror_mode": {
    "name": "ipython",
    "version": 3
   },
   "file_extension": ".py",
   "mimetype": "text/x-python",
   "name": "python",
   "nbconvert_exporter": "python",
   "pygments_lexer": "ipython3",
   "version": "3.10.9"
  }
 },
 "nbformat": 4,
 "nbformat_minor": 5
}
